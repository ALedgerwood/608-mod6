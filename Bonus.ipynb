{
 "cells": [
  {
   "cell_type": "code",
   "execution_count": 2,
   "id": "473fca5d-d8e1-476d-baf9-4005ccff5359",
   "metadata": {},
   "outputs": [
    {
     "name": "stdout",
     "output_type": "stream",
     "text": [
      "Collecting pydataset\n",
      "  Downloading pydataset-0.2.0.tar.gz (15.9 MB)\n",
      "     --------------------------------------- 15.9/15.9 MB 23.3 MB/s eta 0:00:00\n",
      "  Preparing metadata (setup.py): started\n",
      "  Preparing metadata (setup.py): finished with status 'done'\n",
      "Requirement already satisfied: pandas in c:\\users\\19139\\miniconda3\\lib\\site-packages (from pydataset) (1.4.3)\n",
      "Requirement already satisfied: numpy>=1.18.5 in c:\\users\\19139\\miniconda3\\lib\\site-packages (from pandas->pydataset) (1.23.1)\n",
      "Requirement already satisfied: python-dateutil>=2.8.1 in c:\\users\\19139\\miniconda3\\lib\\site-packages (from pandas->pydataset) (2.8.2)\n",
      "Requirement already satisfied: pytz>=2020.1 in c:\\users\\19139\\miniconda3\\lib\\site-packages (from pandas->pydataset) (2022.1)\n",
      "Requirement already satisfied: six>=1.5 in c:\\users\\19139\\miniconda3\\lib\\site-packages (from python-dateutil>=2.8.1->pandas->pydataset) (1.16.0)\n",
      "Building wheels for collected packages: pydataset\n",
      "  Building wheel for pydataset (setup.py): started\n",
      "  Building wheel for pydataset (setup.py): finished with status 'done'\n",
      "  Created wheel for pydataset: filename=pydataset-0.2.0-py3-none-any.whl size=15939432 sha256=315c028c64b3c1806141fe2b8e1134b6a8acb4d849b25f631881ea0d622cd82d\n",
      "  Stored in directory: c:\\users\\19139\\appdata\\local\\pip\\cache\\wheels\\6b\\86\\a7\\f71cb84c7bff804d83e293615a20c0531234397b796aee2645\n",
      "Successfully built pydataset\n",
      "Installing collected packages: pydataset\n",
      "Successfully installed pydataset-0.2.0\n",
      "Note: you may need to restart the kernel to use updated packages.\n"
     ]
    }
   ],
   "source": [
    "pip install pydataset"
   ]
  },
  {
   "cell_type": "code",
   "execution_count": 3,
   "id": "f3ad5efa-8739-492f-98b5-39b128d85747",
   "metadata": {},
   "outputs": [
    {
     "name": "stdout",
     "output_type": "stream",
     "text": [
      "initiated datasets repo at: C:\\Users\\19139\\.pydataset/\n"
     ]
    }
   ],
   "source": [
    "from pydataset import data"
   ]
  },
  {
   "cell_type": "markdown",
   "id": "50698e52-bb4a-47ff-81e3-c5f238c9b453",
   "metadata": {},
   "source": [
    "# Limiting the csv to only certain columns of data"
   ]
  },
  {
   "cell_type": "code",
   "execution_count": 52,
   "id": "dcc4fb64-a7f3-4603-a543-b42fc6cee5fe",
   "metadata": {},
   "outputs": [],
   "source": [
    "import pandas as pd\n",
    "\n",
    "Journals = pd.read_csv('https://vincentarelbundock.github.io/' + 'Rdatasets/csv/Ecdat/Journals.csv', usecols = ['title', 'pub', 'pages', 'field'])\n"
   ]
  },
  {
   "cell_type": "markdown",
   "id": "12b1e548-3e69-4720-a75b-087ecd503f62",
   "metadata": {},
   "source": [
    "# Renaming the Headings"
   ]
  },
  {
   "cell_type": "code",
   "execution_count": 66,
   "id": "db8044e6-5e44-40ac-ab68-3886c96d0968",
   "metadata": {},
   "outputs": [],
   "source": [
    "Journals.columns = ['Journal_Title', 'Publisher', 'Pages', 'Subject_Field']\n"
   ]
  },
  {
   "cell_type": "code",
   "execution_count": 67,
   "id": "39a57d18-ab09-4f3d-ae8b-cb523dad57f8",
   "metadata": {},
   "outputs": [
    {
     "data": {
      "text/html": [
       "<div>\n",
       "<style scoped>\n",
       "    .dataframe tbody tr th:only-of-type {\n",
       "        vertical-align: middle;\n",
       "    }\n",
       "\n",
       "    .dataframe tbody tr th {\n",
       "        vertical-align: top;\n",
       "    }\n",
       "\n",
       "    .dataframe thead th {\n",
       "        text-align: right;\n",
       "    }\n",
       "</style>\n",
       "<table border=\"1\" class=\"dataframe\">\n",
       "  <thead>\n",
       "    <tr style=\"text-align: right;\">\n",
       "      <th></th>\n",
       "      <th>Journal_Title</th>\n",
       "      <th>Publisher</th>\n",
       "      <th>Pages</th>\n",
       "      <th>Subject_Field</th>\n",
       "    </tr>\n",
       "  </thead>\n",
       "  <tbody>\n",
       "    <tr>\n",
       "      <th>0</th>\n",
       "      <td>Asian-Pacific Economic Literature</td>\n",
       "      <td>Blackwell</td>\n",
       "      <td>440</td>\n",
       "      <td>General</td>\n",
       "    </tr>\n",
       "    <tr>\n",
       "      <th>1</th>\n",
       "      <td>South African Journal of Economic History</td>\n",
       "      <td>So Afr ec history assn</td>\n",
       "      <td>309</td>\n",
       "      <td>Ec History</td>\n",
       "    </tr>\n",
       "    <tr>\n",
       "      <th>2</th>\n",
       "      <td>Computational Economics</td>\n",
       "      <td>Kluwer</td>\n",
       "      <td>567</td>\n",
       "      <td>Specialized</td>\n",
       "    </tr>\n",
       "    <tr>\n",
       "      <th>3</th>\n",
       "      <td>MOCT-MOST Economic Policy in Transitional Economics</td>\n",
       "      <td>Kluwer</td>\n",
       "      <td>520</td>\n",
       "      <td>Area Studies</td>\n",
       "    </tr>\n",
       "    <tr>\n",
       "      <th>4</th>\n",
       "      <td>Journal of Socio-Economics</td>\n",
       "      <td>Elsevier</td>\n",
       "      <td>791</td>\n",
       "      <td>Interdisciplinary</td>\n",
       "    </tr>\n",
       "  </tbody>\n",
       "</table>\n",
       "</div>"
      ],
      "text/plain": [
       "                                         Journal_Title  \\\n",
       "0                    Asian-Pacific Economic Literature   \n",
       "1            South African Journal of Economic History   \n",
       "2                              Computational Economics   \n",
       "3  MOCT-MOST Economic Policy in Transitional Economics   \n",
       "4                           Journal of Socio-Economics   \n",
       "\n",
       "                Publisher  Pages      Subject_Field  \n",
       "0               Blackwell    440            General  \n",
       "1  So Afr ec history assn    309         Ec History  \n",
       "2                  Kluwer    567        Specialized  \n",
       "3                  Kluwer    520       Area Studies  \n",
       "4                Elsevier    791  Interdisciplinary  "
      ]
     },
     "execution_count": 67,
     "metadata": {},
     "output_type": "execute_result"
    }
   ],
   "source": [
    "Journals.head()"
   ]
  },
  {
   "cell_type": "markdown",
   "id": "ddf43acf-7380-4583-946c-853300339516",
   "metadata": {},
   "source": [
    "# Check to see how many of the journals are over 500 pages"
   ]
  },
  {
   "cell_type": "markdown",
   "id": "63cbc4e3-c394-4e2b-bdb9-1b9499fdfae5",
   "metadata": {},
   "source": [
    "# using the describe function"
   ]
  },
  {
   "cell_type": "code",
   "execution_count": 78,
   "id": "2343e98c-a6ae-49c0-aed9-43442a1eb6da",
   "metadata": {},
   "outputs": [
    {
     "data": {
      "text/plain": [
       "count      180\n",
       "unique       2\n",
       "top       True\n",
       "freq       146\n",
       "Name: Pages, dtype: object"
      ]
     },
     "execution_count": 78,
     "metadata": {},
     "output_type": "execute_result"
    }
   ],
   "source": [
    "(Journals.Pages >= 500).describe()"
   ]
  },
  {
   "cell_type": "markdown",
   "id": "7bcdd82e-bb9e-4034-bf54-6a4c677fc8ae",
   "metadata": {},
   "source": [
    "# Using matplotlib to create histograms"
   ]
  },
  {
   "cell_type": "code",
   "execution_count": 8,
   "id": "38df3c4d-8a4a-4d90-98c3-52950836354c",
   "metadata": {},
   "outputs": [],
   "source": [
    "# For this CSV file the only data for histogram to use is the page numbers, so the chart shows that most journals are between 500 and 700 pages"
   ]
  },
  {
   "cell_type": "code",
   "execution_count": 6,
   "id": "692dd041-b18b-4c0c-baa2-cdbb9e058169",
   "metadata": {},
   "outputs": [
    {
     "name": "stdout",
     "output_type": "stream",
     "text": [
      "Using matplotlib backend: <object object at 0x000001CAE05B4B70>\n"
     ]
    }
   ],
   "source": [
    "%matplotlib"
   ]
  },
  {
   "cell_type": "code",
   "execution_count": 2,
   "id": "b03ab2a9-346d-4e1f-98ed-a3861aeaa0d2",
   "metadata": {},
   "outputs": [],
   "source": [
    "import pandas as pd"
   ]
  },
  {
   "cell_type": "code",
   "execution_count": 3,
   "id": "62d12c68-64f2-42df-aefe-1548dbc8c7e0",
   "metadata": {},
   "outputs": [],
   "source": [
    "Journals = pd.read_csv('https://vincentarelbundock.github.io/' + 'Rdatasets/csv/Ecdat/Journals.csv', usecols = ['title', 'pub', 'pages', 'field'])\n"
   ]
  },
  {
   "cell_type": "code",
   "execution_count": 4,
   "id": "6655ae78-8680-405d-bccc-ef663edaecc3",
   "metadata": {},
   "outputs": [
    {
     "data": {
      "image/png": "[encoded data removed]",
      "text/plain": [
       "<Figure size 432x288 with 1 Axes>"
      ]
     },
     "metadata": {
      "needs_background": "light"
     },
     "output_type": "display_data"
    }
   ],
   "source": [
    "histogram = Journals.hist()"
   ]
  },
  {
   "cell_type": "code",
   "execution_count": null,
   "id": "01174d13-5b7c-4630-b7f5-f6c74155247d",
   "metadata": {},
   "outputs": [],
   "source": [
    "# Alex Ledgerwood"
   ]
  }
 ],
 "metadata": {
  "kernelspec": {
   "display_name": "Python 3 (ipykernel)",
   "language": "python",
   "name": "python3"
  },
  "language_info": {
   "codemirror_mode": {
    "name": "ipython",
    "version": 3
   },
   "file_extension": ".py",
   "mimetype": "text/x-python",
   "name": "python",
   "nbconvert_exporter": "python",
   "pygments_lexer": "ipython3",
   "version": "3.9.12"
  }
 },
 "nbformat": 4,
 "nbformat_minor": 5
}
